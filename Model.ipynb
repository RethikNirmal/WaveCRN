{
 "cells": [
  {
   "cell_type": "code",
   "execution_count": 8,
   "metadata": {},
   "outputs": [],
   "source": [
    "import torch\n",
    "import torch.nn as nn\n",
    "import torch.nn.functional as F\n",
    "from torch.nn.utils import rnn\n",
    "import sru"
   ]
  },
  {
   "cell_type": "code",
   "execution_count": 9,
   "metadata": {},
   "outputs": [],
   "source": [
    "\n",
    "\n",
    "class ConvBSRU():\n",
    "    def __init__(self, frame_size, conv_channels, stride=128, num_layers=1, dropout=0.1, rescale=False, bidirectional=True):\n",
    "        super(ConvBSRU, self).__init__()\n",
    "        num_directions = 2 if bidirectional else 1\n",
    "        if stride == frame_size:\n",
    "            padding = 0\n",
    "        elif stride == frame_size // 2:\n",
    "            padding = frame_size // 2\n",
    "        else:\n",
    "            print(stride, frame_size)\n",
    "            raise ValueError(\n",
    "                'Invalid stride {}. Length of stride must be \"frame_size\" or \"0.5 * \"frame_size\"'.format(stride))\n",
    "            \n",
    "        self.conv = nn.Conv1d(\n",
    "            in_channels=1, \n",
    "            out_channels=conv_channels, \n",
    "            kernel_size=frame_size, \n",
    "            stride=stride,\n",
    "            padding=padding,\n",
    "            bias=False\n",
    "        )\n",
    "        self.deconv = nn.ConvTranspose1d(\n",
    "            in_channels=conv_channels,\n",
    "            out_channels=1,\n",
    "            kernel_size=frame_size,\n",
    "            stride=stride,\n",
    "            padding=padding,\n",
    "            bias=False\n",
    "        )\n",
    "        self.outfc = nn.Linear(num_directions * conv_channels, conv_channels, bias=False)\n",
    "        self.sru1 = sru.SRU(\n",
    "            input_size=conv_channels,\n",
    "            hidden_size=conv_channels,\n",
    "            num_layers=num_layers,\n",
    "            dropout=dropout,\n",
    "            rnn_dropout=0.1,\n",
    "            layer_norm=True,\n",
    "            rescale=rescale,\n",
    "            bidirectional=bidirectional\n",
    "        )\n",
    "\n",
    "    def forward(self, x):\n",
    "        output = self.conv(x)\n",
    "        \n",
    "        output_ = self.sru1(output)\n",
    "        \n",
    "        output_ = self.outdc(ouput_)\n",
    "        \n",
    "        output = output * output_\n",
    "        \n",
    "        output = self.deconv(output)\n",
    "        \n",
    "        return output"
   ]
  },
  {
   "cell_type": "code",
   "execution_count": null,
   "metadata": {},
   "outputs": [],
   "source": []
  }
 ],
 "metadata": {
  "kernelspec": {
   "display_name": "Python 3",
   "language": "python",
   "name": "python3"
  },
  "language_info": {
   "codemirror_mode": {
    "name": "ipython",
    "version": 3
   },
   "file_extension": ".py",
   "mimetype": "text/x-python",
   "name": "python",
   "nbconvert_exporter": "python",
   "pygments_lexer": "ipython3",
   "version": "3.8.5"
  }
 },
 "nbformat": 4,
 "nbformat_minor": 4
}
